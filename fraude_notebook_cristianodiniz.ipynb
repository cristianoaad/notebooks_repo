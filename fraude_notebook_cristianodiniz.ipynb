{
 "cells": [
  {
   "cell_type": "markdown",
   "metadata": {
    "application/vnd.databricks.v1+cell": {
     "cellMetadata": {},
     "inputWidgets": {},
     "nuid": "706b9b64-66ca-4104-80ea-f2f0ee81450f",
     "showTitle": false,
     "tableResultSettingsMap": {},
     "title": ""
    }
   },
   "source": [
    "### QUESTÃO A "
   ]
  },
  {
   "cell_type": "code",
   "execution_count": 0,
   "metadata": {
    "application/vnd.databricks.v1+cell": {
     "cellMetadata": {
      "byteLimit": 2048000,
      "implicitDf": true,
      "rowLimit": 10000
     },
     "collapsed": true,
     "inputWidgets": {},
     "nuid": "d9ceb1dc-6f8b-4426-8a97-96f7b170ef1b",
     "showTitle": false,
     "tableResultSettingsMap": {},
     "title": ""
    }
   },
   "outputs": [
    {
     "output_type": "display_data",
     "data": {
      "text/html": [
       "<style scoped>\n",
       "  .table-result-container {\n",
       "    max-height: 300px;\n",
       "    overflow: auto;\n",
       "  }\n",
       "  table, th, td {\n",
       "    border: 1px solid black;\n",
       "    border-collapse: collapse;\n",
       "  }\n",
       "  th, td {\n",
       "    padding: 5px;\n",
       "  }\n",
       "  th {\n",
       "    text-align: left;\n",
       "  }\n",
       "</style><div class='table-result-container'><table class='table-result'><thead style='background-color: white'><tr><th>Provider</th><th>failure_counts</th><th>percent_total_failures</th><th>provider_executions</th><th>percent_provider_error</th></tr></thead><tbody><tr><td>A</td><td>40</td><td>78.43</td><td>496</td><td>8.06</td></tr><tr><td>B</td><td>8</td><td>15.69</td><td>40</td><td>20.0</td></tr><tr><td>C</td><td>3</td><td>5.88</td><td>9</td><td>33.33</td></tr></tbody></table></div>"
      ]
     },
     "metadata": {
      "application/vnd.databricks.v1+output": {
       "addedWidgets": {},
       "aggData": [],
       "aggError": "",
       "aggOverflow": false,
       "aggSchema": [],
       "aggSeriesLimitReached": false,
       "aggType": "",
       "arguments": {},
       "columnCustomDisplayInfos": {},
       "data": [
        [
         "A",
         40,
         78.43,
         496,
         8.06
        ],
        [
         "B",
         8,
         15.69,
         40,
         20.0
        ],
        [
         "C",
         3,
         5.88,
         9,
         33.33
        ]
       ],
       "datasetInfos": [],
       "dbfsResultPath": null,
       "isJsonSchema": true,
       "metadata": {},
       "overflow": false,
       "plotOptions": {
        "customPlotOptions": {},
        "displayType": "table",
        "pivotAggregation": null,
        "pivotColumns": null,
        "xColumns": null,
        "yColumns": null
       },
       "removedWidgets": [],
       "schema": [
        {
         "metadata": "{}",
         "name": "Provider",
         "type": "\"string\""
        },
        {
         "metadata": "{}",
         "name": "failure_counts",
         "type": "\"long\""
        },
        {
         "metadata": "{}",
         "name": "percent_total_failures",
         "type": "\"double\""
        },
        {
         "metadata": "{}",
         "name": "provider_executions",
         "type": "\"long\""
        },
        {
         "metadata": "{}",
         "name": "percent_provider_error",
         "type": "\"double\""
        }
       ],
       "type": "table"
      }
     },
     "output_type": "display_data"
    }
   ],
   "source": [
    "%sql\n",
    "-- QUESTÃO A\n",
    "SELECT \n",
    "  Provider,\n",
    "  COUNT (CASE WHEN Status = \"PROVIDER_FAILED\" THEN 1 END) AS failure_counts,\n",
    "  ROUND ( \n",
    "    (COUNT (CASE WHEN Status = \"PROVIDER_FAILED\" THEN 1 END)/ SUM(COUNT (CASE WHEN Status = \"PROVIDER_FAILED\" THEN 1 END)) OVER ()) *100,\n",
    "  2) AS percent_total_failures, -- do total de failures, o quanto o provider especifico representou\n",
    "  COUNT (Provider) AS provider_executions,\n",
    "  ROUND ( \n",
    "    (COUNT (CASE WHEN Status = \"PROVIDER_FAILED\" THEN 1 END)/ COUNT (Provider)) *100,\n",
    "  2) AS percent_provider_error --de todas execuções do provider, qual percentual de falha ele apresentou\n",
    "FROM biometry_execution\n",
    "WHERE TRY_CAST (coalesce(REPLACE( Similarity, '0.', ''), '0')  AS FLOAT) is not null-- Considerado um erro na tabela, pois diverge do padrão da coluna (numero que representa a similaridade) e pode poluir a análise, portanto: 1.remove o 0. antes dos numeros de similaridade, 2.substitui todos nulos por zero; 3.converte em float os zeros e números de similaridade; 4.valores não numéricos (contendo letras) agora serão null; 5.filtrar esses nulls para remover os erros da tabela\n",
    "GROUP BY Provider\n",
    "ORDER BY failure_counts DESC \n",
    "\n"
   ]
  },
  {
   "cell_type": "markdown",
   "metadata": {
    "application/vnd.databricks.v1+cell": {
     "cellMetadata": {},
     "inputWidgets": {},
     "nuid": "c0ec3ffe-5658-4493-8225-be0faa4bc522",
     "showTitle": false,
     "tableResultSettingsMap": {},
     "title": ""
    }
   },
   "source": [
    "### QUESTÃO B"
   ]
  },
  {
   "cell_type": "code",
   "execution_count": 0,
   "metadata": {
    "application/vnd.databricks.v1+cell": {
     "cellMetadata": {
      "byteLimit": 2048000,
      "implicitDf": true,
      "rowLimit": 10000
     },
     "collapsed": true,
     "inputWidgets": {},
     "nuid": "5f42ee93-c8d7-43e6-870e-75ea788c6183",
     "showTitle": false,
     "tableResultSettingsMap": {},
     "title": ""
    }
   },
   "outputs": [
    {
     "output_type": "display_data",
     "data": {
      "text/html": [
       "<style scoped>\n",
       "  .table-result-container {\n",
       "    max-height: 300px;\n",
       "    overflow: auto;\n",
       "  }\n",
       "  table, th, td {\n",
       "    border: 1px solid black;\n",
       "    border-collapse: collapse;\n",
       "  }\n",
       "  th, td {\n",
       "    padding: 5px;\n",
       "  }\n",
       "  th {\n",
       "    text-align: left;\n",
       "  }\n",
       "</style><div class='table-result-container'><table class='table-result'><thead style='background-color: white'><tr><th>Category</th><th>not_match_count</th><th>percent_not_match</th><th>drivers_in_category</th><th>percent_category_not_match</th></tr></thead><tbody><tr><td>Bronze</td><td>25</td><td>40.98</td><td>149</td><td>16.78</td></tr><tr><td>Prata</td><td>20</td><td>32.79</td><td>148</td><td>13.51</td></tr><tr><td>Iniciante</td><td>11</td><td>18.03</td><td>94</td><td>11.7</td></tr><tr><td>Ouro</td><td>4</td><td>6.56</td><td>79</td><td>5.06</td></tr><tr><td>Diamante</td><td>1</td><td>1.64</td><td>23</td><td>4.35</td></tr></tbody></table></div>"
      ]
     },
     "metadata": {
      "application/vnd.databricks.v1+output": {
       "addedWidgets": {},
       "aggData": [],
       "aggError": "",
       "aggOverflow": false,
       "aggSchema": [],
       "aggSeriesLimitReached": false,
       "aggType": "",
       "arguments": {},
       "columnCustomDisplayInfos": {},
       "data": [
        [
         "Bronze",
         25,
         40.98,
         149,
         16.78
        ],
        [
         "Prata",
         20,
         32.79,
         148,
         13.51
        ],
        [
         "Iniciante",
         11,
         18.03,
         94,
         11.7
        ],
        [
         "Ouro",
         4,
         6.56,
         79,
         5.06
        ],
        [
         "Diamante",
         1,
         1.64,
         23,
         4.35
        ]
       ],
       "datasetInfos": [],
       "dbfsResultPath": null,
       "isJsonSchema": true,
       "metadata": {},
       "overflow": false,
       "plotOptions": {
        "customPlotOptions": {},
        "displayType": "table",
        "pivotAggregation": null,
        "pivotColumns": null,
        "xColumns": null,
        "yColumns": null
       },
       "removedWidgets": [],
       "schema": [
        {
         "metadata": "{}",
         "name": "Category",
         "type": "\"string\""
        },
        {
         "metadata": "{}",
         "name": "not_match_count",
         "type": "\"long\""
        },
        {
         "metadata": "{}",
         "name": "percent_not_match",
         "type": "\"double\""
        },
        {
         "metadata": "{}",
         "name": "drivers_in_category",
         "type": "\"long\""
        },
        {
         "metadata": "{}",
         "name": "percent_category_not_match",
         "type": "\"double\""
        }
       ],
       "type": "table"
      }
     },
     "output_type": "display_data"
    }
   ],
   "source": [
    "%sql\n",
    "--QUESTÃO B\n",
    "--gerando as execuções biométricas válidas, isto é, sem erro no input \"Similarity\"\n",
    "with valid_biometry_executions AS (\n",
    "  SELECT \n",
    "    DISTINCT Session_ID \n",
    "  from biometry_execution\n",
    "  WHERE TRY_CAST (coalesce(REPLACE( Similarity, '0.', ''), '0')  AS FLOAT) is not null-- Considerado um erro na tabela, pois diverge do padrão da coluna (numero que representa a similaridade) e pode poluir a análise, portanto: 1.remove o 0. antes dos numeros de similaridade, 2.substitui todos nulos por zero; 3.converte em float os zeros e números de similaridade; 4.valores não numéricos (contendo letras) agora serão null; 5.filtrar esses nulls para remover os erros \n",
    ")\n",
    "\n",
    "--fazendo contagens e calculando os devidos valores totais para cada categoria, bem como quantidade de status not match e o percentual\n",
    "SELECT\n",
    "  Category, \n",
    "  COUNT(CASE WHEN b.Status = \"NOT_MATCH\" THEN 1 END) as not_match_count,\n",
    "  ROUND ( \n",
    "    (COUNT(CASE WHEN b.Status = \"NOT_MATCH\" THEN 1 END)/ SUM(COUNT(CASE WHEN b.Status = \"NOT_MATCH\" THEN 1 END)) OVER ()) *100,\n",
    "  2) AS percent_not_match, --de todos os not matches, o quanto a referida categoria representou\n",
    "  COUNT (Category) AS drivers_in_category,\n",
    "  ROUND ( \n",
    "    (COUNT(CASE WHEN b.Status = \"NOT_MATCH\" THEN 1 END)/ COUNT(Category)) *100,\n",
    "  2) AS percent_category_not_match --dos drivers com biometria nessa categoria, qual foi o percentual de not match\n",
    "  \n",
    "FROM biometry b\n",
    "LEFT JOIN  drivers d\n",
    "  ON b.Driver_ID = d.Driver_ID \n",
    "INNER JOIN valid_biometry_executions be \n",
    "  ON b.Session_ID = be.Session_ID -- trazendo somente valid executions, eliminando o dado incorreto\n",
    "WHERE b.Status <> \"PROVIDER_FAILED\" -- asumindo que os casos finais com provider failed em todos os providers, foi erro de sistema e portanto não deve ser contabilizado no calculo de percentual de not match dentro do universo de todos os testes bem sucedidos\n",
    "GROUP BY Category \n",
    "ORDER BY not_match_count DESC "
   ]
  },
  {
   "cell_type": "markdown",
   "metadata": {
    "application/vnd.databricks.v1+cell": {
     "cellMetadata": {},
     "inputWidgets": {},
     "nuid": "8ca3eb00-5ce3-47c9-b2fa-495d2994703d",
     "showTitle": false,
     "tableResultSettingsMap": {},
     "title": ""
    }
   },
   "source": [
    "### QUESTÃO C"
   ]
  },
  {
   "cell_type": "code",
   "execution_count": 0,
   "metadata": {
    "application/vnd.databricks.v1+cell": {
     "cellMetadata": {
      "byteLimit": 2048000,
      "implicitDf": true,
      "rowLimit": 10000
     },
     "collapsed": true,
     "inputWidgets": {},
     "nuid": "a484bb51-463a-451a-9880-273d669ab543",
     "showTitle": false,
     "tableResultSettingsMap": {},
     "title": ""
    }
   },
   "outputs": [
    {
     "output_type": "display_data",
     "data": {
      "text/html": [
       "<style scoped>\n",
       "  .table-result-container {\n",
       "    max-height: 300px;\n",
       "    overflow: auto;\n",
       "  }\n",
       "  table, th, td {\n",
       "    border: 1px solid black;\n",
       "    border-collapse: collapse;\n",
       "  }\n",
       "  th, td {\n",
       "    padding: 5px;\n",
       "  }\n",
       "  th {\n",
       "    text-align: left;\n",
       "  }\n",
       "</style><div class='table-result-container'><table class='table-result'><thead style='background-color: white'><tr><th>total_biometry_executions</th><th>old_match_count</th><th>old_match_percent</th><th>new_match_count</th><th>new_match_percent</th></tr></thead><tbody><tr><td>493</td><td>432</td><td>0.88</td><td>333</td><td>0.68</td></tr></tbody></table></div>"
      ]
     },
     "metadata": {
      "application/vnd.databricks.v1+output": {
       "addedWidgets": {},
       "aggData": [],
       "aggError": "",
       "aggOverflow": false,
       "aggSchema": [],
       "aggSeriesLimitReached": false,
       "aggType": "",
       "arguments": {},
       "columnCustomDisplayInfos": {},
       "data": [
        [
         493,
         432,
         0.88,
         333,
         0.68
        ]
       ],
       "datasetInfos": [],
       "dbfsResultPath": null,
       "isJsonSchema": true,
       "metadata": {},
       "overflow": false,
       "plotOptions": {
        "customPlotOptions": {},
        "displayType": "table",
        "pivotAggregation": null,
        "pivotColumns": null,
        "xColumns": null,
        "yColumns": null
       },
       "removedWidgets": [],
       "schema": [
        {
         "metadata": "{}",
         "name": "total_biometry_executions",
         "type": "\"long\""
        },
        {
         "metadata": "{}",
         "name": "old_match_count",
         "type": "\"long\""
        },
        {
         "metadata": "{}",
         "name": "old_match_percent",
         "type": "\"double\""
        },
        {
         "metadata": "{}",
         "name": "new_match_count",
         "type": "\"long\""
        },
        {
         "metadata": "{}",
         "name": "new_match_percent",
         "type": "\"double\""
        }
       ],
       "type": "table"
      }
     },
     "output_type": "display_data"
    }
   ],
   "source": [
    "%sql\n",
    "--QUESTÃO C - Simple and straightforward solution\n",
    "WITH similarity_increase AS (\n",
    "SELECT \n",
    "  be.Session_ID,\n",
    "  Provider,\n",
    "  be.Status,\n",
    "  TRY_CAST (REPLACE ( Similarity, '0.', '') AS FLOAT)/100 AS similarity_cleaned, --tratamentos na coluna de similarity, para ler corretamente os números e tratar textos como null\n",
    "  CASE \n",
    "    WHEN similarity_cleaned >= 0.9 THEN \"MATCH\"\n",
    "    WHEN similarity_cleaned < 0.9 THEN \"NOT_MATCH\"\n",
    "    ELSE \"PROVIDER_FAILED\"\n",
    "  END AS new_status_90,\n",
    "  ROW_NUMBER() OVER (PARTITION BY be.Session_ID ORDER BY Provider DESC) AS rn\n",
    "FROM biometry_execution be\n",
    "--LEFT JOIN biometry b\n",
    "  --ON be.Session_ID = b.Session_ID\n",
    "WHERE TRY_CAST (coalesce(REPLACE( Similarity, '0.', ''), '0')  AS FLOAT) is not null-- Considerado um erro na tabela, pois diverge do padrão da coluna (numero que representa a similaridade) e pode poluir a análise, portanto: 1.remove o 0. antes dos numeros de similaridade, 2.substitui todos nulos por zero; 3.converte em float os zeros e números de similaridade; 4.valores não numéricos (contendo letras) agora serão null; 5.filtrar esses nulls para remover os erros \n",
    "AND be.Status <> \"PROVIDER_FAILED\"\n",
    ")\n",
    "\n",
    "\n",
    "SELECT \n",
    "  COUNT(Status) AS total_biometry_executions, \n",
    "  COUNT(CASE WHEN Status = 'MATCH' THEN 1 END) AS old_match_count, \n",
    "  ROUND(COUNT(CASE WHEN Status = \"MATCH\" THEN 1 END)/ COUNT(DISTINCT Session_ID),2) AS old_match_percent,\n",
    "  COUNT(CASE WHEN new_status_90 = 'MATCH' THEN 1 END) AS new_match_count, \n",
    "  ROUND(COUNT(CASE WHEN new_status_90 = \"MATCH\" THEN 1 END)/ COUNT(DISTINCT Session_ID),2) AS new_match_percent\n",
    "  \n",
    "FROM similarity_increase\n",
    "WHERE rn = 1 --como row number foi contado a partir da ordenação decrescente de Provider, garante que vai pegar o resultado da última execução para aquela Session_ID\n"
   ]
  },
  {
   "cell_type": "code",
   "execution_count": 0,
   "metadata": {
    "application/vnd.databricks.v1+cell": {
     "cellMetadata": {
      "byteLimit": 2048000,
      "implicitDf": true,
      "rowLimit": 10000
     },
     "collapsed": true,
     "inputWidgets": {},
     "nuid": "0d6e3f56-885e-441c-a3c2-0d08da4877cb",
     "showTitle": false,
     "tableResultSettingsMap": {},
     "title": ""
    }
   },
   "outputs": [
    {
     "output_type": "display_data",
     "data": {
      "text/html": [
       "<style scoped>\n",
       "  .table-result-container {\n",
       "    max-height: 300px;\n",
       "    overflow: auto;\n",
       "  }\n",
       "  table, th, td {\n",
       "    border: 1px solid black;\n",
       "    border-collapse: collapse;\n",
       "  }\n",
       "  th, td {\n",
       "    padding: 5px;\n",
       "  }\n",
       "  th {\n",
       "    text-align: left;\n",
       "  }\n",
       "</style><div class='table-result-container'><table class='table-result'><thead style='background-color: white'><tr><th>provider_new</th><th>count(new_status_90)</th><th>new_match_count</th><th>provider_new_match_percent</th><th>match_share</th><th>total_match_percent</th></tr></thead><tbody><tr><td>A</td><td>456</td><td>311</td><td>0.68</td><td>0.93</td><td>0.63</td></tr><tr><td>B</td><td>31</td><td>18</td><td>0.58</td><td>0.05</td><td>0.04</td></tr><tr><td>C</td><td>6</td><td>4</td><td>0.67</td><td>0.01</td><td>0.01</td></tr></tbody></table></div>"
      ]
     },
     "metadata": {
      "application/vnd.databricks.v1+output": {
       "addedWidgets": {},
       "aggData": [],
       "aggError": "",
       "aggOverflow": false,
       "aggSchema": [],
       "aggSeriesLimitReached": false,
       "aggType": "",
       "arguments": {},
       "columnCustomDisplayInfos": {},
       "data": [
        [
         "A",
         456,
         311,
         0.68,
         0.93,
         0.63
        ],
        [
         "B",
         31,
         18,
         0.58,
         0.05,
         0.04
        ],
        [
         "C",
         6,
         4,
         0.67,
         0.01,
         0.01
        ]
       ],
       "datasetInfos": [],
       "dbfsResultPath": null,
       "isJsonSchema": true,
       "metadata": {},
       "overflow": false,
       "plotOptions": {
        "customPlotOptions": {},
        "displayType": "table",
        "pivotAggregation": null,
        "pivotColumns": null,
        "xColumns": null,
        "yColumns": null
       },
       "removedWidgets": [],
       "schema": [
        {
         "metadata": "{}",
         "name": "provider_new",
         "type": "\"string\""
        },
        {
         "metadata": "{\"__autoGeneratedAlias\":\"true\"}",
         "name": "count(new_status_90)",
         "type": "\"long\""
        },
        {
         "metadata": "{}",
         "name": "new_match_count",
         "type": "\"long\""
        },
        {
         "metadata": "{}",
         "name": "provider_new_match_percent",
         "type": "\"double\""
        },
        {
         "metadata": "{}",
         "name": "match_share",
         "type": "\"double\""
        },
        {
         "metadata": "{}",
         "name": "total_match_percent",
         "type": "\"double\""
        }
       ],
       "type": "table"
      }
     },
     "output_type": "display_data"
    }
   ],
   "source": [
    "%sql\n",
    "--QUESTÃO C.1 - extra information on each provider on new match rates\n",
    "WITH similarity_increase AS (\n",
    "SELECT \n",
    "    be.Session_ID,\n",
    "    Provider AS Provider_New,\n",
    "    be.Status,\n",
    "    TRY_CAST (REPLACE ( Similarity, '0.', '') AS FLOAT)/100 AS similarity_cleaned, --tratamentos na coluna de similarity, para ler corretamente os números e tratar textos como null\n",
    "    CASE \n",
    "      WHEN similarity_cleaned >= 0.9 THEN \"MATCH\"\n",
    "      WHEN similarity_cleaned < 0.9 THEN \"NOT_MATCH\"\n",
    "      ELSE \"PROVIDER_FAILED\"\n",
    "    END AS new_status_90,\n",
    "    ROW_NUMBER() OVER (PARTITION BY be.Session_ID ORDER BY Provider DESC) AS rn\n",
    "FROM biometry_execution be\n",
    "--LEFT JOIN biometry b\n",
    "  --ON be.Session_ID = b.Session_ID\n",
    "WHERE TRY_CAST (coalesce(REPLACE( Similarity, '0.', ''), '0')  AS FLOAT) is not null-- Considerado um erro na tabela, pois diverge do padrão da coluna (numero que representa a similaridade) e pode poluir a análise, portanto: 1.remove o 0. antes dos numeros de similaridade, 2.substitui todos nulos por zero; 3.converte em float os zeros e números de similaridade; 4.valores não numéricos (contendo letras) agora serão null; 5.filtrar esses nulls para remover os erros \n",
    "AND be.Status <> \"PROVIDER_FAILED\" --pois queremos contabilizar apenas execuções finais válidas para construção da nova biometry \n",
    ")\n",
    "\n",
    "SELECT \n",
    "  provider_new,\n",
    "  COUNT (new_status_90),\n",
    "  COUNT(CASE WHEN new_status_90 = 'MATCH' THEN 1 END) AS new_match_count, \n",
    "  ROUND(COUNT(CASE WHEN new_status_90 = \"MATCH\" THEN 1 END)/ COUNT(new_status_90),2) AS provider_new_match_percent,\n",
    "  ROUND(COUNT(CASE WHEN new_status_90 = \"MATCH\" THEN 1 END) / SUM(COUNT(CASE WHEN new_status_90 = \"MATCH\" THEN 1 END)) OVER (),2) AS match_share,\n",
    "  ROUND(COUNT(CASE WHEN new_status_90 = \"MATCH\" THEN 1 END) / SUM(COUNT(new_status_90)) OVER (),2) AS total_match_percent\n",
    "FROM similarity_increase\n",
    "WHERE rn = 1 --como row number foi contado a partir da ordenação decrescente de Provider, garante que vai pegar o resultado da última execução para aquela Session_ID\n",
    "GROUP BY provider_new\n",
    "ORDER BY provider_new ASC \n",
    "\n"
   ]
  },
  {
   "cell_type": "code",
   "execution_count": 0,
   "metadata": {
    "application/vnd.databricks.v1+cell": {
     "cellMetadata": {
      "byteLimit": 2048000,
      "implicitDf": true,
      "rowLimit": 10000
     },
     "collapsed": true,
     "inputWidgets": {},
     "nuid": "dd275cd8-82a9-4b34-9291-265cf58261ad",
     "showTitle": false,
     "tableResultSettingsMap": {},
     "title": ""
    }
   },
   "outputs": [
    {
     "output_type": "display_data",
     "data": {
      "text/html": [
       "<style scoped>\n",
       "  .table-result-container {\n",
       "    max-height: 300px;\n",
       "    overflow: auto;\n",
       "  }\n",
       "  table, th, td {\n",
       "    border: 1px solid black;\n",
       "    border-collapse: collapse;\n",
       "  }\n",
       "  th, td {\n",
       "    padding: 5px;\n",
       "  }\n",
       "  th {\n",
       "    text-align: left;\n",
       "  }\n",
       "</style><div class='table-result-container'><table class='table-result'><thead style='background-color: white'><tr><th>Provider</th><th>count(Status)</th><th>match_count</th><th>provider_match_percent</th><th>match_share</th><th>total_match_percent</th></tr></thead><tbody><tr><td>A</td><td>456</td><td>398</td><td>0.87</td><td>0.92</td><td>0.81</td></tr><tr><td>B</td><td>31</td><td>28</td><td>0.9</td><td>0.06</td><td>0.06</td></tr><tr><td>C</td><td>6</td><td>6</td><td>1.0</td><td>0.01</td><td>0.01</td></tr></tbody></table></div>"
      ]
     },
     "metadata": {
      "application/vnd.databricks.v1+output": {
       "addedWidgets": {},
       "aggData": [],
       "aggError": "",
       "aggOverflow": false,
       "aggSchema": [],
       "aggSeriesLimitReached": false,
       "aggType": "",
       "arguments": {},
       "columnCustomDisplayInfos": {},
       "data": [
        [
         "A",
         456,
         398,
         0.87,
         0.92,
         0.81
        ],
        [
         "B",
         31,
         28,
         0.9,
         0.06,
         0.06
        ],
        [
         "C",
         6,
         6,
         1.0,
         0.01,
         0.01
        ]
       ],
       "datasetInfos": [],
       "dbfsResultPath": null,
       "isJsonSchema": true,
       "metadata": {},
       "overflow": false,
       "plotOptions": {
        "customPlotOptions": {},
        "displayType": "table",
        "pivotAggregation": null,
        "pivotColumns": null,
        "xColumns": null,
        "yColumns": null
       },
       "removedWidgets": [],
       "schema": [
        {
         "metadata": "{}",
         "name": "Provider",
         "type": "\"string\""
        },
        {
         "metadata": "{\"__autoGeneratedAlias\":\"true\"}",
         "name": "count(Status)",
         "type": "\"long\""
        },
        {
         "metadata": "{}",
         "name": "match_count",
         "type": "\"long\""
        },
        {
         "metadata": "{}",
         "name": "provider_match_percent",
         "type": "\"double\""
        },
        {
         "metadata": "{}",
         "name": "match_share",
         "type": "\"double\""
        },
        {
         "metadata": "{}",
         "name": "total_match_percent",
         "type": "\"double\""
        }
       ],
       "type": "table"
      }
     },
     "output_type": "display_data"
    }
   ],
   "source": [
    "%sql\n",
    "-- QUESTÃO C.2 - extra information on each provider on old match rates, to compare with new match rates\n",
    "with \n",
    "--gerando as execuções biométricas válidas, isto é, sem erro no output \"Similarity\"\n",
    "valid_biometry_executions AS (\n",
    "  SELECT \n",
    "    DISTINCT Session_ID\n",
    "  from biometry_execution\n",
    "  WHERE TRY_CAST (coalesce(REPLACE( Similarity, '0.', ''), '0')  AS FLOAT) is not null-- Considerado um erro na tabela, pois diverge do padrão da coluna (numero que representa a similaridade) e pode poluir a análise, portanto: 1.remove o 0. antes dos numeros de similaridade, 2.substitui todos nulos por zero; 3.converte em float os zeros e números de similaridade; 4.valores não numéricos (contendo letras) agora serão null; 5.filtrar esses nulls para remover os erros \n",
    "),\n",
    "\n",
    "--consolidando todos os dados necesssários com devidos filtros e sanitização de bases utilizadas\n",
    "base as (\n",
    "SELECT\n",
    "  b.*,\n",
    "  be.Provider\n",
    "FROM biometry b \n",
    "LEFT JOIN biometry_execution be  -- trazendo com esse join o provider que resultou no status final daquela session\n",
    "  ON b.Session_ID = be.Session_ID \n",
    "  AND b.Status = be.Status\n",
    "INNER JOIN valid_biometry_executions v -- para remover o caso de erro onde Similarity = \"NOT MATCH\"\n",
    "  ON b.Session_ID = v.Session_ID\n",
    "WHERE b.Status <> \"PROVIDER_FAILED\" -- asumindo que os casos finais com provider failed em todos os providers, foi erro de sistema e portanto não deve ser contabilizado no calculo de percentual de not match dentro do universo de todos os testes bem sucedidos\n",
    "\n",
    ")\n",
    "SELECT \n",
    "  Provider,\n",
    "  COUNT (Status),\n",
    "  COUNT(CASE WHEN Status = \"MATCH\" THEN 1 END) as match_count,\n",
    "  ROUND(COUNT(CASE WHEN Status = \"MATCH\" THEN 1 END)/ COUNT(Status),2) AS provider_match_percent,\n",
    "  ROUND(COUNT(CASE WHEN Status = \"MATCH\" THEN 1 END) / SUM(COUNT(CASE WHEN Status = \"MATCH\" THEN 1 END)) OVER (),2) AS match_share,\n",
    "  ROUND(COUNT(CASE WHEN Status = \"MATCH\" THEN 1 END) / SUM(COUNT(Status)) OVER (),2) AS total_match_percent\n",
    "FROM base \n",
    "GROUP BY Provider \n",
    "ORDER BY Provider ASC "
   ]
  },
  {
   "cell_type": "markdown",
   "metadata": {
    "application/vnd.databricks.v1+cell": {
     "cellMetadata": {},
     "inputWidgets": {},
     "nuid": "33546b29-d47a-4219-ac2e-b8a6e6a8b354",
     "showTitle": false,
     "tableResultSettingsMap": {},
     "title": ""
    }
   },
   "source": [
    "### QUESTÃO D"
   ]
  },
  {
   "cell_type": "code",
   "execution_count": 0,
   "metadata": {
    "application/vnd.databricks.v1+cell": {
     "cellMetadata": {
      "byteLimit": 2048000,
      "implicitDf": true,
      "rowLimit": 10000
     },
     "collapsed": true,
     "inputWidgets": {},
     "nuid": "9938d9b3-8d0b-48fa-945a-a4192015b4a0",
     "showTitle": false,
     "tableResultSettingsMap": {},
     "title": ""
    }
   },
   "outputs": [
    {
     "output_type": "display_data",
     "data": {
      "text/html": [
       "<style scoped>\n",
       "  .table-result-container {\n",
       "    max-height: 300px;\n",
       "    overflow: auto;\n",
       "  }\n",
       "  table, th, td {\n",
       "    border: 1px solid black;\n",
       "    border-collapse: collapse;\n",
       "  }\n",
       "  th, td {\n",
       "    padding: 5px;\n",
       "  }\n",
       "  th {\n",
       "    text-align: left;\n",
       "  }\n",
       "</style><div class='table-result-container'><table class='table-result'><thead style='background-color: white'><tr><th>order_status</th><th>biometry_status</th><th>total_orders</th><th>total_pedidos_per_biometry_status</th><th>driver_count_per_status</th><th>percent_per_biometry</th><th>orders_per_driver</th></tr></thead><tbody><tr><td>CANCELLED</td><td>MATCH</td><td>885</td><td>5897</td><td>432</td><td>15.01</td><td>2.05</td></tr><tr><td>CONCLUDED</td><td>MATCH</td><td>5012</td><td>5897</td><td>432</td><td>84.99</td><td>11.6</td></tr><tr><td>CANCELLED</td><td>NOT_MATCH</td><td>137</td><td>802</td><td>61</td><td>17.08</td><td>2.25</td></tr><tr><td>CONCLUDED</td><td>NOT_MATCH</td><td>665</td><td>802</td><td>61</td><td>82.92</td><td>10.9</td></tr></tbody></table></div>"
      ]
     },
     "metadata": {
      "application/vnd.databricks.v1+output": {
       "addedWidgets": {},
       "aggData": [],
       "aggError": "",
       "aggOverflow": false,
       "aggSchema": [],
       "aggSeriesLimitReached": false,
       "aggType": "",
       "arguments": {},
       "columnCustomDisplayInfos": {},
       "data": [
        [
         "CANCELLED",
         "MATCH",
         885,
         5897,
         432,
         15.01,
         2.05
        ],
        [
         "CONCLUDED",
         "MATCH",
         5012,
         5897,
         432,
         84.99,
         11.6
        ],
        [
         "CANCELLED",
         "NOT_MATCH",
         137,
         802,
         61,
         17.08,
         2.25
        ],
        [
         "CONCLUDED",
         "NOT_MATCH",
         665,
         802,
         61,
         82.92,
         10.9
        ]
       ],
       "datasetInfos": [],
       "dbfsResultPath": null,
       "isJsonSchema": true,
       "metadata": {},
       "overflow": false,
       "plotOptions": {
        "customPlotOptions": {},
        "displayType": "table",
        "pivotAggregation": null,
        "pivotColumns": null,
        "xColumns": null,
        "yColumns": null
       },
       "removedWidgets": [],
       "schema": [
        {
         "metadata": "{}",
         "name": "order_status",
         "type": "\"string\""
        },
        {
         "metadata": "{}",
         "name": "biometry_status",
         "type": "\"string\""
        },
        {
         "metadata": "{}",
         "name": "total_orders",
         "type": "\"long\""
        },
        {
         "metadata": "{}",
         "name": "total_pedidos_per_biometry_status",
         "type": "\"long\""
        },
        {
         "metadata": "{}",
         "name": "driver_count_per_status",
         "type": "\"long\""
        },
        {
         "metadata": "{}",
         "name": "percent_per_biometry",
         "type": "\"double\""
        },
        {
         "metadata": "{}",
         "name": "orders_per_driver",
         "type": "\"double\""
        }
       ],
       "type": "table"
      }
     },
     "output_type": "display_data"
    }
   ],
   "source": [
    "%sql\n",
    "-- QUESTÃO D.1 - Análise do impacto da biometria no status dos pedidos RESPOSTA DA PERGUNTA - percents\n",
    "\n",
    "--filtrando erros da base de pedidos; selecionando e transformando colunas a serem utilizadas\n",
    "WITH orders AS (\n",
    "  SELECT \n",
    "    Driver_ID AS driver_id,\n",
    "    DATE(Order_DT) AS data_pedido,\n",
    "    Order_Status AS order_status,\n",
    "    Order_ID AS order_id\n",
    "  FROM orders\n",
    "  WHERE order_status <> \"#N/D\" -- Remover casos com erro pois não sabemos qual foi o status final do pedido\n",
    "),\n",
    "\n",
    "--gerando as execuções biométricas válidas, isto é, sem erro no input \"Similarity\"\n",
    "valid_biometry_executions AS (\n",
    "  SELECT DISTINCT Session_ID \n",
    "  FROM biometry_execution\n",
    "   WHERE TRY_CAST (coalesce(REPLACE( Similarity, '0.', ''), '0')  AS FLOAT) is not null-- Considerado um erro na tabela, pois diverge do padrão da coluna (numero que representa a similaridade) e pode poluir a análise, portanto: 1.remove o 0. antes dos numeros de similaridade, 2.substitui todos nulos por zero; 3.converte em float os zeros e números de similaridade; 4.valores não numéricos (contendo letras) agora serão null; 5.filtrar esses nulls para remover os erros \n",
    "),\n",
    "\n",
    "--gerando a tabela com infos de biometria, filtrando para resultados finais válidos de biometria \n",
    "biometries AS (\n",
    "  SELECT \n",
    "    Driver_ID AS driver_id,\n",
    "    DATE(b.Event_Dt) AS data_biometria,\n",
    "    Status AS biometry_status\n",
    "  FROM biometry b \n",
    "  INNER JOIN valid_biometry_executions be\n",
    "    ON b.Session_ID = be.Session_ID \n",
    "  WHERE b.Status <> \"PROVIDER_FAILED\" -- asumindo que os casos finais com provider failed em todos os providers, foi erro de sistema e portanto não deve ser contabilizado como biometria realizada \n",
    "),\n",
    "\n",
    "--consolidando todos os dados necesssários após consumir das bases sanitizadas, e realizando primeira contagem de pedidos\n",
    "base AS (\n",
    "  SELECT \n",
    "    o.driver_id,\n",
    "    b.biometry_status,\n",
    "    order_status,\n",
    "    COUNT(DISTINCT o.order_id) AS order_num\n",
    "\n",
    "  FROM orders o\n",
    "  LEFT JOIN biometries b\n",
    "    ON o.driver_id = b.driver_id\n",
    "  WHERE biometry_status IS NOT NULL --dessa forma, somente observando pedidos os quais o entregador tem resultado de biometria na base tratada de biometry, podendo comparar corretamente entre match e not match\n",
    "  GROUP BY 1,2,3\n",
    "),\n",
    "\n",
    "--agregando por status pedido e status biometria\n",
    "calculations AS (\n",
    "SELECT \n",
    "  order_status,\n",
    "  biometry_status,\n",
    "  SUM(order_num) AS total_orders\n",
    "\n",
    "FROM base\n",
    "GROUP BY 1,2\n",
    "ORDER BY order_status, biometry_status\n",
    "),\n",
    "\n",
    "--gerando coluna de total por status de biometria - total de pedidos para driver com status match e total de pedidos para status not match\n",
    "last_calculations AS (\n",
    "SELECT \n",
    "    order_status,\n",
    "    biometry_status,\n",
    "    total_orders,\n",
    "    SUM(total_orders) OVER (PARTITION BY biometry_status) AS total_pedidos_per_biometry_status\n",
    "  FROM calculations\n",
    "  GROUP BY 1,2,3\n",
    "\n",
    "),\n",
    "\n",
    "driver_count AS (\n",
    "  SELECT \n",
    "    COUNT(DISTINCT driver_id) AS driver_count_per_status,\n",
    "    biometry_status\n",
    "  FROM base \n",
    "  GROUP BY biometry_status \n",
    ")\n",
    "\n",
    "SELECT \n",
    "  lc.*,\n",
    "  driver_count_per_status,\n",
    "  ROUND((total_orders/total_pedidos_per_biometry_status )*100,2) AS percent_per_biometry,\n",
    "  ROUND((total_orders/driver_count_per_status ),2) AS orders_per_driver\n",
    "\n",
    "FROM last_calculations lc\n",
    "LEFT JOIN driver_count dc\n",
    "  ON lc.biometry_status = dc.biometry_status\n",
    "ORDER BY 2"
   ]
  },
  {
   "cell_type": "code",
   "execution_count": 0,
   "metadata": {
    "application/vnd.databricks.v1+cell": {
     "cellMetadata": {
      "byteLimit": 2048000,
      "implicitDf": true,
      "rowLimit": 10000
     },
     "collapsed": true,
     "inputWidgets": {},
     "nuid": "03ddb682-fcbf-4cd4-a4e0-2cac8e9824d7",
     "showTitle": false,
     "tableResultSettingsMap": {},
     "title": ""
    }
   },
   "outputs": [
    {
     "output_type": "display_data",
     "data": {
      "text/html": [
       "<style scoped>\n",
       "  .table-result-container {\n",
       "    max-height: 300px;\n",
       "    overflow: auto;\n",
       "  }\n",
       "  table, th, td {\n",
       "    border: 1px solid black;\n",
       "    border-collapse: collapse;\n",
       "  }\n",
       "  th, td {\n",
       "    padding: 5px;\n",
       "  }\n",
       "  th {\n",
       "    text-align: left;\n",
       "  }\n",
       "</style><div class='table-result-container'><table class='table-result'><thead style='background-color: white'><tr><th>fail_cancel_corr</th><th>match_cancel_corr</th></tr></thead><tbody><tr><td>0.0416</td><td>-0.0416</td></tr></tbody></table></div>"
      ]
     },
     "metadata": {
      "application/vnd.databricks.v1+output": {
       "addedWidgets": {},
       "aggData": [],
       "aggError": "",
       "aggOverflow": false,
       "aggSchema": [],
       "aggSeriesLimitReached": false,
       "aggType": "",
       "arguments": {},
       "columnCustomDisplayInfos": {},
       "data": [
        [
         0.0416,
         -0.0416
        ]
       ],
       "datasetInfos": [],
       "dbfsResultPath": null,
       "isJsonSchema": true,
       "metadata": {},
       "overflow": false,
       "plotOptions": {
        "customPlotOptions": {},
        "displayType": "table",
        "pivotAggregation": null,
        "pivotColumns": null,
        "xColumns": null,
        "yColumns": null
       },
       "removedWidgets": [],
       "schema": [
        {
         "metadata": "{}",
         "name": "fail_cancel_corr",
         "type": "\"double\""
        },
        {
         "metadata": "{}",
         "name": "match_cancel_corr",
         "type": "\"double\""
        }
       ],
       "type": "table"
      }
     },
     "output_type": "display_data"
    }
   ],
   "source": [
    "%sql\n",
    "-- QUESTÃO D.2 - Análise do impacto da biometria no status dos pedidos RESPOSTA DA PERGUNTA - PEARSON CORREL\n",
    "\n",
    "--filtrando erros da base de pedidos; selecionando e transformando colunas a serem utilizadas\n",
    "WITH orders AS (\n",
    "  SELECT \n",
    "    Driver_ID AS driver_id,\n",
    "    DATE(Order_DT) AS data_pedido,\n",
    "    Order_Status AS order_status,\n",
    "    Order_ID AS order_id\n",
    "  FROM orders\n",
    "  WHERE order_status <> \"#N/D\" -- Remover casos com erro pois não sabemos qual foi o status final do pedido\n",
    "),\n",
    "\n",
    "--gerando as execuções biométricas válidas, isto é, sem erro no output \"Similarity\"\n",
    "valid_biometry_executions AS (\n",
    "  SELECT DISTINCT Session_ID \n",
    "  FROM biometry_execution\n",
    "   WHERE TRY_CAST (coalesce(REPLACE( Similarity, '0.', ''), '0')  AS FLOAT) is not null-- Considerado um erro na tabela, pois diverge do padrão da coluna (numero que representa a similaridade) e pode poluir a análise, portanto: 1.remove o 0. antes dos numeros de similaridade, 2.substitui todos nulos por zero; 3.converte em float os zeros e números de similaridade; 4.valores não numéricos (contendo letras) agora serão null; 5.filtrar esses nulls para remover os erros \n",
    "),\n",
    "\n",
    "--gerando a tabela com infos de biometria, filtrando para resultados finais válidos de biometria \n",
    "biometries AS (\n",
    "  SELECT \n",
    "    Driver_ID AS driver_id,\n",
    "    DATE(b.Event_Dt) AS data_biometria,\n",
    "    Status AS biometry_status\n",
    "  FROM biometry b \n",
    "  INNER JOIN valid_biometry_executions be\n",
    "    ON b.Session_ID = be.Session_ID \n",
    "  WHERE b.Status <> \"PROVIDER_FAILED\" -- asumindo que os casos finais com provider failed em todos os providers, foi erro de sistema e portanto não deve ser contabilizado como biometria válida realizada \n",
    "),\n",
    "\n",
    "--consolidando todos os dados necesssários após consumir das bases sanitizadas, e realizando cálculos e gerando colunas dummy\n",
    "base AS (\n",
    "  SELECT \n",
    "    o.driver_id,\n",
    "    b.biometry_status,\n",
    "    \n",
    "    -- Número de pedidos cancelados por entregador\n",
    "    COUNT(CASE WHEN o.order_status = 'CANCELLED' THEN 1 END) AS cancelled_orders,\n",
    "\n",
    "    COUNT(CASE WHEN o.order_status = 'CONCLUDED' THEN 1 END) AS completed_orders,\n",
    "    \n",
    "    -- Bool indicando biometria com falha do entregador\n",
    "    MAX(CASE WHEN b.biometry_status = 'NOT_MATCH' THEN 1 ELSE 0 END) AS failed_biometry,\n",
    "\n",
    "    -- Bool indicando biometria com sucesso do entregador\n",
    "    MAX(CASE WHEN b.biometry_status = 'MATCH' THEN 1 ELSE 0 END) AS completed_biometry,\n",
    "\n",
    "    --Bool indicando falta de biometria na base biometry para aquele entregador\n",
    "    MAX(CASE WHEN b.driver_id IS NULL THEN 1 ELSE 0 END ) AS no_recent_biometry\n",
    "\n",
    "\n",
    "  FROM orders o\n",
    "  LEFT JOIN biometries b\n",
    "    ON o.driver_id = b.driver_id\n",
    "  WHERE biometry_status IS NOT NULL --dessa forma, somente observando pedidos os quais o entregador tem resultado de biometria na base tratada de biometry, podendo comparar corretamente entre match e not match\n",
    "  GROUP BY o.driver_id, b.biometry_status\n",
    ")\n",
    "\n",
    "SELECT \n",
    "  ROUND (corr(cancelled_orders, failed_biometry),4) AS fail_cancel_corr,\n",
    "  ROUND (corr(cancelled_orders, completed_biometry),4) AS match_cancel_corr\n",
    "FROM base\n",
    "WHERE no_recent_biometry = 0"
   ]
  },
  {
   "cell_type": "code",
   "execution_count": 0,
   "metadata": {
    "application/vnd.databricks.v1+cell": {
     "cellMetadata": {
      "byteLimit": 2048000,
      "implicitDf": true,
      "rowLimit": 10000
     },
     "collapsed": true,
     "inputWidgets": {},
     "nuid": "a441669f-b4ed-41a5-969b-559d6434d4f1",
     "showTitle": false,
     "tableResultSettingsMap": {},
     "title": ""
    }
   },
   "outputs": [
    {
     "output_type": "display_data",
     "data": {
      "text/html": [
       "<style scoped>\n",
       "  .table-result-container {\n",
       "    max-height: 300px;\n",
       "    overflow: auto;\n",
       "  }\n",
       "  table, th, td {\n",
       "    border: 1px solid black;\n",
       "    border-collapse: collapse;\n",
       "  }\n",
       "  th, td {\n",
       "    padding: 5px;\n",
       "  }\n",
       "  th {\n",
       "    text-align: left;\n",
       "  }\n",
       "</style><div class='table-result-container'><table class='table-result'><thead style='background-color: white'><tr><th>num_week_day_biometria</th><th>week_day_biometria</th><th>not_match_percent</th><th>sum(not_matches)</th><th>sum(matches)</th></tr></thead><tbody><tr><td>1</td><td>Sunday</td><td>13.92</td><td>11</td><td>68</td></tr><tr><td>2</td><td>Monday</td><td>19.48</td><td>15</td><td>62</td></tr><tr><td>3</td><td>Tuesday</td><td>15.0</td><td>12</td><td>68</td></tr><tr><td>4</td><td>Wednesday</td><td>13.7</td><td>10</td><td>63</td></tr><tr><td>5</td><td>Thursday</td><td>6.45</td><td>4</td><td>58</td></tr><tr><td>6</td><td>Friday</td><td>5.71</td><td>4</td><td>66</td></tr><tr><td>7</td><td>Saturday</td><td>9.62</td><td>5</td><td>47</td></tr></tbody></table></div>"
      ]
     },
     "metadata": {
      "application/vnd.databricks.v1+output": {
       "addedWidgets": {},
       "aggData": [],
       "aggError": "",
       "aggOverflow": false,
       "aggSchema": [],
       "aggSeriesLimitReached": false,
       "aggType": "",
       "arguments": {},
       "columnCustomDisplayInfos": {},
       "data": [
        [
         1,
         "Sunday",
         13.92,
         11,
         68
        ],
        [
         2,
         "Monday",
         19.48,
         15,
         62
        ],
        [
         3,
         "Tuesday",
         15.0,
         12,
         68
        ],
        [
         4,
         "Wednesday",
         13.7,
         10,
         63
        ],
        [
         5,
         "Thursday",
         6.45,
         4,
         58
        ],
        [
         6,
         "Friday",
         5.71,
         4,
         66
        ],
        [
         7,
         "Saturday",
         9.62,
         5,
         47
        ]
       ],
       "datasetInfos": [],
       "dbfsResultPath": null,
       "isJsonSchema": true,
       "metadata": {},
       "overflow": false,
       "plotOptions": {
        "customPlotOptions": {},
        "displayType": "table",
        "pivotAggregation": null,
        "pivotColumns": null,
        "xColumns": null,
        "yColumns": null
       },
       "removedWidgets": [],
       "schema": [
        {
         "metadata": "{}",
         "name": "num_week_day_biometria",
         "type": "\"integer\""
        },
        {
         "metadata": "{}",
         "name": "week_day_biometria",
         "type": "\"string\""
        },
        {
         "metadata": "{}",
         "name": "not_match_percent",
         "type": "\"double\""
        },
        {
         "metadata": "{\"__autoGeneratedAlias\":\"true\"}",
         "name": "sum(not_matches)",
         "type": "\"long\""
        },
        {
         "metadata": "{\"__autoGeneratedAlias\":\"true\"}",
         "name": "sum(matches)",
         "type": "\"long\""
        }
       ],
       "type": "table"
      }
     },
     "output_type": "display_data"
    }
   ],
   "source": [
    "%sql\n",
    "--QUESTÃO D - b) padrão nas datas\n",
    "WITH \n",
    "--gerando as execuções biométricas válidas, isto é, sem erro no output \"Similarity\"\n",
    "valid_biometry_executions AS ( \n",
    "  SELECT DISTINCT Session_ID \n",
    "  FROM biometry_execution\n",
    "   WHERE TRY_CAST (coalesce(REPLACE( Similarity, '0.', ''), '0')  AS FLOAT) is not null-- Considerado um erro na tabela, pois diverge do padrão da coluna (numero que representa a similaridade) e pode poluir a análise, portanto: 1.remove o 0. antes dos numeros de similaridade, 2.substitui todos nulos por zero; 3.converte em float os zeros e números de similaridade; 4.valores não numéricos (contendo letras) agora serão null; 5.filtrar esses nulls para remover os erros \n",
    "),\n",
    "--gerando a tabela com infos de biometria, filtrando para resultados finais válidos de biometria \n",
    "biometries AS ( \n",
    "  SELECT \n",
    "    Driver_ID AS driver_id,\n",
    "    DATE(b.Event_Dt) AS data_biometria,\n",
    "    Status AS biometry_status\n",
    "  FROM biometry b \n",
    "  INNER JOIN valid_biometry_executions be --trazendo então somente as biometrias finais que tiveram pelo menos uma execução válida de biometria\n",
    "    ON b.Session_ID = be.Session_ID \n",
    "  WHERE b.Status <> \"PROVIDER_FAILED\" -- asumindo que os casos finais com provider failed em todos os providers, foi erro de sistema e portanto não deve ser contabilizado como biometria válida realizada \n",
    "),\n",
    "\n",
    "--consolidando todos os dados necesssários após consumir das bases sanitizadas, contando as ocorrências de match e not match para diversas granularidades de data\n",
    "date_agregations AS (\n",
    "SELECT \n",
    "  month(data_biometria) AS month_biometria,\n",
    "  day(data_biometria) AS day_biometria,\n",
    "  dayofweek(data_biometria) AS num_week_day_biometria,\n",
    "  date_format(data_biometria, 'EEEE') AS week_day_biometria,\n",
    "  COUNT(CASE WHEN biometry_status = \"MATCH\" THEN 1 END) AS matches,\n",
    "  COUNT(CASE WHEN biometry_status = \"NOT_MATCH\" THEN 1 END) AS not_matches\n",
    "\n",
    "FROM biometries\n",
    "GROUP BY 1,2,3,4\n",
    "ORDER BY 2,3 ASC \n",
    ")\n",
    "\n",
    "-- após testar os diversas granularidades de data, se chega na conclusão - pela melhor distribuição de data points - e na melhor leitura de padrões, que observar os dados pelo week day nos dá o melhor resultado, conforme analisado a seguir:\n",
    "SELECT \n",
    "  num_week_day_biometria,\n",
    "  week_day_biometria,\n",
    "  ROUND((SUM(not_matches)/ (SUM(matches) + SUM(not_matches)))*100,2) AS not_match_percent,\n",
    "  SUM(not_matches), \n",
    "  SUM(matches)\n",
    "FROM date_agregations\n",
    "GROUP BY 1,2\n",
    "ORDER BY 1 ASC \n"
   ]
  },
  {
   "cell_type": "code",
   "execution_count": 0,
   "metadata": {
    "application/vnd.databricks.v1+cell": {
     "cellMetadata": {
      "byteLimit": 2048000,
      "implicitDf": true,
      "rowLimit": 10000
     },
     "collapsed": true,
     "inputWidgets": {},
     "nuid": "889833bf-45e5-4baa-91f2-ed5cc3149586",
     "showTitle": false,
     "tableResultSettingsMap": {},
     "title": ""
    }
   },
   "outputs": [
    {
     "output_type": "display_data",
     "data": {
      "text/html": [
       "<style scoped>\n",
       "  .table-result-container {\n",
       "    max-height: 300px;\n",
       "    overflow: auto;\n",
       "  }\n",
       "  table, th, td {\n",
       "    border: 1px solid black;\n",
       "    border-collapse: collapse;\n",
       "  }\n",
       "  th, td {\n",
       "    padding: 5px;\n",
       "  }\n",
       "  th {\n",
       "    text-align: left;\n",
       "  }\n",
       "</style><div class='table-result-container'><table class='table-result'><thead style='background-color: white'><tr><th>num_week_day_pedido</th><th>week_day_pedido</th><th>cancel_rate</th><th>sum(pedidos_completos)</th><th>sum(pedidos_cancelados)</th><th>pedidos_totais</th></tr></thead><tbody><tr><td>1</td><td>Sunday</td><td>13.05</td><td>746</td><td>112</td><td>858</td></tr><tr><td>2</td><td>Monday</td><td>15.02</td><td>747</td><td>132</td><td>879</td></tr><tr><td>3</td><td>Tuesday</td><td>15.21</td><td>1187</td><td>213</td><td>1400</td></tr><tr><td>4</td><td>Wednesday</td><td>14.19</td><td>756</td><td>125</td><td>881</td></tr><tr><td>5</td><td>Thursday</td><td>15.02</td><td>764</td><td>135</td><td>899</td></tr><tr><td>6</td><td>Friday</td><td>17.08</td><td>704</td><td>145</td><td>849</td></tr><tr><td>7</td><td>Saturday</td><td>17.15</td><td>773</td><td>160</td><td>933</td></tr></tbody></table></div>"
      ]
     },
     "metadata": {
      "application/vnd.databricks.v1+output": {
       "addedWidgets": {},
       "aggData": [],
       "aggError": "",
       "aggOverflow": false,
       "aggSchema": [],
       "aggSeriesLimitReached": false,
       "aggType": "",
       "arguments": {},
       "columnCustomDisplayInfos": {},
       "data": [
        [
         1,
         "Sunday",
         13.05,
         746,
         112,
         858
        ],
        [
         2,
         "Monday",
         15.02,
         747,
         132,
         879
        ],
        [
         3,
         "Tuesday",
         15.21,
         1187,
         213,
         1400
        ],
        [
         4,
         "Wednesday",
         14.19,
         756,
         125,
         881
        ],
        [
         5,
         "Thursday",
         15.02,
         764,
         135,
         899
        ],
        [
         6,
         "Friday",
         17.08,
         704,
         145,
         849
        ],
        [
         7,
         "Saturday",
         17.15,
         773,
         160,
         933
        ]
       ],
       "datasetInfos": [],
       "dbfsResultPath": null,
       "isJsonSchema": true,
       "metadata": {},
       "overflow": false,
       "plotOptions": {
        "customPlotOptions": {},
        "displayType": "table",
        "pivotAggregation": null,
        "pivotColumns": null,
        "xColumns": null,
        "yColumns": null
       },
       "removedWidgets": [],
       "schema": [
        {
         "metadata": "{}",
         "name": "num_week_day_pedido",
         "type": "\"integer\""
        },
        {
         "metadata": "{}",
         "name": "week_day_pedido",
         "type": "\"string\""
        },
        {
         "metadata": "{}",
         "name": "cancel_rate",
         "type": "\"double\""
        },
        {
         "metadata": "{\"__autoGeneratedAlias\":\"true\"}",
         "name": "sum(pedidos_completos)",
         "type": "\"long\""
        },
        {
         "metadata": "{\"__autoGeneratedAlias\":\"true\"}",
         "name": "sum(pedidos_cancelados)",
         "type": "\"long\""
        },
        {
         "metadata": "{}",
         "name": "pedidos_totais",
         "type": "\"long\""
        }
       ],
       "type": "table"
      }
     },
     "output_type": "display_data"
    }
   ],
   "source": [
    "%sql\n",
    "-- QUESTÃO D- b)- Análise extra de pedidos por dia da semana\n",
    "\n",
    "--filtrando erros da base de pedidos; selecionando e transformando colunas a serem utilizadas\n",
    "WITH orders AS (\n",
    "  SELECT \n",
    "    Driver_ID AS driver_id,\n",
    "    DATE(Order_DT) AS data_pedido,\n",
    "    Order_Status AS order_status,\n",
    "    Order_ID AS order_id\n",
    "  FROM orders\n",
    "  WHERE order_status <> \"#N/D\" -- Remover casos com erro pois não sabemos qual foi o status final do pedido\n",
    "),\n",
    "\n",
    "--gerando as execuções biométricas válidas, isto é, sem erro no output \"Similarity\"\n",
    "valid_biometry_executions AS (\n",
    "  SELECT DISTINCT Session_ID \n",
    "  FROM biometry_execution\n",
    "   WHERE TRY_CAST (coalesce(REPLACE( Similarity, '0.', ''), '0')  AS FLOAT) is not null-- Considerado um erro na tabela, pois diverge do padrão da coluna (numero que representa a similaridade) e pode poluir a análise, portanto: 1.remove o 0. antes dos numeros de similaridade, 2.substitui todos nulos por zero; 3.converte em float os zeros e números de similaridade; 4.valores não numéricos (contendo letras) agora serão null; 5.filtrar esses nulls para remover os erros \n",
    "),\n",
    "\n",
    "--gerando a tabela com infos de biometria, filtrando para resultados finais válidos de biometria \n",
    "biometries AS (\n",
    "  SELECT \n",
    "    Driver_ID AS driver_id,\n",
    "    DATE(b.Event_Dt) AS data_biometria,\n",
    "    Status AS biometry_status\n",
    "  FROM biometry b \n",
    "  INNER JOIN valid_biometry_executions be\n",
    "    ON b.Session_ID = be.Session_ID \n",
    "  WHERE b.Status <> \"PROVIDER_FAILED\" -- asumindo que os casos finais com provider failed em todos os providers, foi erro de sistema e portanto não deve ser contabilizado como biometria válida realizada \n",
    "),\n",
    "\n",
    "--consolidando todos os dados necesssários após consumir das bases sanitizadas, e realizando cálculos e gerando colunas dummy\n",
    "base AS (\n",
    "  SELECT \n",
    "    o.*\n",
    "  FROM orders o\n",
    "  LEFT JOIN biometries b\n",
    "    ON o.driver_id = b.driver_id\n",
    "  WHERE biometry_status IS NOT NULL --dessa forma, somente observando pedidos os quais o entregador tem resultado de biometria na base tratada de biometry, podendo comparar corretamente entre match e not match\n",
    "),\n",
    "\n",
    "date_agregations AS (\n",
    "SELECT \n",
    "  month(data_pedido) AS mes_pedido,\n",
    "  day(data_pedido) AS dia_pedido,\n",
    "  dayofweek(data_pedido) AS num_week_day_pedido,\n",
    "  date_format(data_pedido, 'EEEE') AS week_day_pedido,\n",
    "  COUNT(CASE WHEN order_status = \"CONCLUDED\" THEN 1 END) AS pedidos_completos,\n",
    "  COUNT(CASE WHEN order_status <> \"CONCLUDED\"  THEN 1 END) AS pedidos_cancelados\n",
    "\n",
    "FROM base\n",
    "GROUP BY 1,2,3,4\n",
    "ORDER BY 2,3 ASC \n",
    ")\n",
    "\n",
    "-- após testar os diversas granularidades de data, se chega na conclusão - pela melhor distribuição de data points - e na melhor leitura de padrões, que observar os dados pelo week day nos dá o melhor resultado, conforme analisado a seguir:\n",
    "SELECT \n",
    "  num_week_day_pedido,\n",
    "  week_day_pedido,\n",
    "  ROUND((SUM(pedidos_cancelados)/ (SUM(pedidos_completos) + SUM(pedidos_cancelados)))*100,2) AS cancel_rate,\n",
    "  SUM(pedidos_completos), \n",
    "  SUM(pedidos_cancelados),\n",
    "  SUM(pedidos_completos) + SUM(pedidos_cancelados) AS pedidos_totais\n",
    "FROM date_agregations\n",
    "GROUP BY 1,2\n",
    "ORDER BY 1 ASC \n"
   ]
  },
  {
   "cell_type": "code",
   "execution_count": 0,
   "metadata": {
    "application/vnd.databricks.v1+cell": {
     "cellMetadata": {
      "byteLimit": 2048000,
      "implicitDf": true,
      "rowLimit": 10000
     },
     "collapsed": true,
     "inputWidgets": {},
     "nuid": "ef5cd8e5-d7cb-4405-a7a4-f9cb7e06f552",
     "showTitle": false,
     "tableResultSettingsMap": {},
     "title": ""
    }
   },
   "outputs": [
    {
     "output_type": "display_data",
     "data": {
      "text/html": [
       "<style scoped>\n",
       "  .table-result-container {\n",
       "    max-height: 300px;\n",
       "    overflow: auto;\n",
       "  }\n",
       "  table, th, td {\n",
       "    border: 1px solid black;\n",
       "    border-collapse: collapse;\n",
       "  }\n",
       "  th, td {\n",
       "    padding: 5px;\n",
       "  }\n",
       "  th {\n",
       "    text-align: left;\n",
       "  }\n",
       "</style><div class='table-result-container'><table class='table-result'><thead style='background-color: white'><tr><th>corr_bronze_cancelled</th><th>corr_prata_cancelled</th><th>corr_iniciante_cancelled</th><th>corr_ouro_cancelled</th><th>corr_diamante_cancelled</th></tr></thead><tbody><tr><td>0.2689</td><td>-0.008</td><td>-0.3367</td><td>0.1035</td><td>-0.1212</td></tr></tbody></table></div>"
      ]
     },
     "metadata": {
      "application/vnd.databricks.v1+output": {
       "addedWidgets": {},
       "aggData": [],
       "aggError": "",
       "aggOverflow": false,
       "aggSchema": [],
       "aggSeriesLimitReached": false,
       "aggType": "",
       "arguments": {},
       "columnCustomDisplayInfos": {},
       "data": [
        [
         0.2689,
         -0.008,
         -0.3367,
         0.1035,
         -0.1212
        ]
       ],
       "datasetInfos": [],
       "dbfsResultPath": null,
       "isJsonSchema": true,
       "metadata": {},
       "overflow": false,
       "plotOptions": {
        "customPlotOptions": {},
        "displayType": "table",
        "pivotAggregation": null,
        "pivotColumns": null,
        "xColumns": null,
        "yColumns": null
       },
       "removedWidgets": [],
       "schema": [
        {
         "metadata": "{}",
         "name": "corr_bronze_cancelled",
         "type": "\"double\""
        },
        {
         "metadata": "{}",
         "name": "corr_prata_cancelled",
         "type": "\"double\""
        },
        {
         "metadata": "{}",
         "name": "corr_iniciante_cancelled",
         "type": "\"double\""
        },
        {
         "metadata": "{}",
         "name": "corr_ouro_cancelled",
         "type": "\"double\""
        },
        {
         "metadata": "{}",
         "name": "corr_diamante_cancelled",
         "type": "\"double\""
        }
       ],
       "type": "table"
      }
     },
     "output_type": "display_data"
    }
   ],
   "source": [
    "%sql\n",
    "-- QUESTÃO D - Extra info - Pearson corr para Category\n",
    "\n",
    "WITH  \n",
    "--filtrando erros da base de pedidos; selecionando e transformando colunas a serem utilizadas\n",
    "orders_agg AS (\n",
    "  SELECT \n",
    "    Driver_ID AS driver_id, \n",
    "    COUNT(CASE WHEN Order_Status = \"CANCELLED\" THEN 1 END) AS cancelled_orders,\n",
    "    COUNT(CASE WHEN Order_Status = \"CONCLUDED\" THEN 1 END) AS completed_orders,\n",
    "    COUNT(Order_ID) AS total_orders\n",
    "  FROM orders\n",
    "  WHERE order_status <> \"#N/D\" -- Remover casos com erro pois não sabemos qual foi o status final do pedido\n",
    "  GROUP BY Driver_ID\n",
    "  \n",
    "),\n",
    "--gerando as execuções biométricas válidas, isto é, sem erro no output \"Similarity\"\n",
    "valid_biometry_executions AS (\n",
    "  SELECT DISTINCT Session_ID \n",
    "  FROM biometry_execution\n",
    "   WHERE TRY_CAST (coalesce(REPLACE( Similarity, '0.', ''), '0')  AS FLOAT) is not null-- Considerado um erro na tabela, pois diverge do padrão da coluna (numero que representa a similaridade) e pode poluir a análise, portanto: 1.remove o 0. antes dos numeros de similaridade, 2.substitui todos nulos por zero; 3.converte em float os zeros e números de similaridade; 4.valores não numéricos (contendo letras) agora serão null; 5.filtrar esses nulls para remover os erros \n",
    "),\n",
    "--gerando a tabela com infos de biometria, filtrando para resultados finais válidos de biometria\n",
    "biometries AS (\n",
    "  SELECT \n",
    "    Driver_ID AS driver_id,\n",
    "    DATE(b.Event_Dt) AS data_biometria,\n",
    "    Status AS biometry_status\n",
    "  FROM biometry b \n",
    "  INNER JOIN valid_biometry_executions be\n",
    "    ON b.Session_ID = be.Session_ID \n",
    "  WHERE b.Status <> \"PROVIDER_FAILED\" -- asumindo que os casos finais com provider failed em todos os providers, foi erro de sistema e portanto não deve ser contabilizado como biometria válida realizada \n",
    "),\n",
    "\n",
    "--informações dos motoristas a respeito qual categoria se encontra, por meio de dummies (boolean)\n",
    "drivers_info AS (\n",
    "  SELECT\n",
    "  Driver_ID AS driver_id, \n",
    "  DATE (Register_Dt) AS register_date,\n",
    "  CASE WHEN Category = \"Prata\" Then 1 ELSE 0 END as prata_bool,\n",
    "  CASE WHEN Category = \"Iniciante\" Then 1 ELSE 0 END as iniciante_bool,\n",
    "  CASE WHEN Category = \"Diamante\" Then 1 ELSE 0 END as diamante_bool,\n",
    "  CASE WHEN Category = \"Bronze\" Then 1 ELSE 0 END as bronze_bool,\n",
    "  CASE WHEN Category = \"Ouro\" Then 1 ELSE 0 END as ouro_bool\n",
    "  FROM drivers\n",
    "),\n",
    "\n",
    "--consolidando todos os dados necesssários após consumir das bases sanitizadas\n",
    "final_data AS (\n",
    "  SELECT \n",
    "    d.*, \n",
    "    o.cancelled_orders,\n",
    "    o.completed_orders,\n",
    "    o.total_orders\n",
    "\n",
    "  FROM drivers_info d\n",
    "  LEFT JOIN orders_agg o\n",
    "    ON d.driver_id = o.driver_id\n",
    "  LEFT JOIN biometries b\n",
    "    ON o.driver_id = b.driver_id\n",
    "  WHERE biometry_status IS NOT NULL --dessa forma, somente observando pedidos os quais o entregador tem resultado de biometria na base tratada de biometry, podendo comparar corretamente entre match e not match\n",
    ")\n",
    "\n",
    "-- Cálculo da correlação entre quantidade de pedidos cancelados e a dummy que indica qual categoria o driver se encontra\n",
    "SELECT\n",
    "  ROUND(corr(bronze_bool, cancelled_orders), 4) AS corr_bronze_cancelled,\n",
    "  ROUND(corr(prata_bool, cancelled_orders), 4) AS corr_prata_cancelled,\n",
    "  ROUND(corr(iniciante_bool, cancelled_orders), 4) AS corr_iniciante_cancelled,\n",
    "  ROUND(corr(ouro_bool, cancelled_orders), 4) AS corr_ouro_cancelled,\n",
    "  ROUND(corr(diamante_bool, cancelled_orders), 4) AS corr_diamante_cancelled\n",
    "FROM final_data"
   ]
  }
 ],
 "metadata": {
  "application/vnd.databricks.v1+notebook": {
   "computePreferences": null,
   "dashboards": [],
   "environmentMetadata": {
    "base_environment": "",
    "environment_version": "1"
   },
   "inputWidgetPreferences": null,
   "language": "python",
   "notebookMetadata": {
    "mostRecentlyExecutedCommandWithImplicitDF": {
     "commandId": 1942848120089537,
     "dataframes": [
      "_sqldf"
     ]
    },
    "pythonIndentUnit": 4
   },
   "notebookName": "Case Ifood",
   "widgets": {}
  }
 },
 "nbformat": 4,
 "nbformat_minor": 0
}
